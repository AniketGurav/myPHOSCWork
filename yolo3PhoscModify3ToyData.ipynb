{
 "cells": [
  {
   "cell_type": "markdown",
   "id": "05616f53",
   "metadata": {},
   "source": [
    "\"\"\"\n",
    "this script uses yolo3PhoscModify3 for toy data\n",
    "\"\"\""
   ]
  },
  {
   "cell_type": "code",
   "execution_count": 1,
   "id": "48fba011",
   "metadata": {},
   "outputs": [
    {
     "name": "stderr",
     "output_type": "stream",
     "text": [
      "2022-04-06 19:38:53.670562: W tensorflow/stream_executor/platform/default/dso_loader.cc:64] Could not load dynamic library 'libcudart.so.11.0'; dlerror: libcudart.so.11.0: cannot open shared object file: No such file or directory; LD_LIBRARY_PATH: /home/aniketag/.conda/envs/TensorFlow-2.x-YOLOv3/lib/python3.8/site-packages/cv2/../../lib64:\n",
      "2022-04-06 19:38:53.670606: I tensorflow/stream_executor/cuda/cudart_stub.cc:29] Ignore above cudart dlerror if you do not have a GPU set up on your machine.\n"
     ]
    },
    {
     "name": "stdout",
     "output_type": "stream",
     "text": [
      "[name: \"/device:CPU:0\"\n",
      "device_type: \"CPU\"\n",
      "memory_limit: 268435456\n",
      "locality {\n",
      "}\n",
      "incarnation: 16800236166575344011\n",
      "]\n",
      "\n",
      "\t YOLO_TYPE: yolov3\n"
     ]
    },
    {
     "name": "stderr",
     "output_type": "stream",
     "text": [
      "2022-04-06 19:38:55.224240: I tensorflow/core/platform/cpu_feature_guard.cc:142] This TensorFlow binary is optimized with oneAPI Deep Neural Network Library (oneDNN) to use the following CPU instructions in performance-critical operations:  AVX2 AVX512F FMA\n",
      "To enable them in other operations, rebuild TensorFlow with the appropriate compiler flags.\n",
      "2022-04-06 19:38:55.225757: W tensorflow/stream_executor/platform/default/dso_loader.cc:64] Could not load dynamic library 'libcuda.so.1'; dlerror: libcuda.so.1: cannot open shared object file: No such file or directory; LD_LIBRARY_PATH: /home/aniketag/.conda/envs/TensorFlow-2.x-YOLOv3/lib/python3.8/site-packages/cv2/../../lib64:\n",
      "2022-04-06 19:38:55.225772: W tensorflow/stream_executor/cuda/cuda_driver.cc:326] failed call to cuInit: UNKNOWN ERROR (303)\n",
      "2022-04-06 19:38:55.225790: I tensorflow/stream_executor/cuda/cuda_diagnostics.cc:156] kernel driver does not appear to be running on this host (aniketag-Latitude-7420): /proc/driver/nvidia/version does not exist\n"
     ]
    }
   ],
   "source": [
    "import os\n",
    "import cv2\n",
    "import numpy as np\n",
    "os.environ['CUDA_VISIBLE_DEVICES'] = '0'\n",
    "os.environ['TF_FORCE_GPU_ALLOW_GROWTH'] = 'true'\n",
    "from tensorflow.python.client import device_lib\n",
    "\n",
    "print(device_lib.list_local_devices())\n",
    "import shutil\n",
    "import numpy as np\n",
    "import tensorflow as tf\n",
    "\n",
    "#print(\"\\n\\t tf:\",tf.__version__)\n",
    "#tf.enable_eager_execution()\n",
    "# from tensorflow.keras.utils import plot_model\n",
    "#from yolov3.dataset import Dataset\n",
    "from yolov3.yolov4 import compute_loss1\n",
    "from yolov3.utils import load_yolo_weights\n",
    "from yolov3.configs import *\n",
    "from evaluate_mAP import get_mAP\n",
    "\n",
    "print(\"\\n\\t YOLO_TYPE:\",YOLO_TYPE)\n",
    "\n",
    "import os\n",
    "import cv2\n",
    "import random\n",
    "import numpy as np\n",
    "import tensorflow as tf\n",
    "import pickle\n",
    "from yolov3.utils import read_class_names, image_preprocess#,draw_bbox\n",
    "from yolov3.yolov3 import bbox_iou\n",
    "from yolov3.configs import *\n",
    "from yolov3.utils import load_yolo_weights, detect_image, image_preprocess, postprocess_boxes, nms, read_class_names\n",
    "from supportFunctions import draw_bbox\n",
    "\n",
    "\n",
    "TRAIN_PHOSC,TRAIN_PHOC,TRAIN_PHOS\n",
    "from yoloModify import yolo33\n",
    "yoloNew=yolo33(input_size=416, channels=3, training=True, CLASSES=YOLO_COCO_CLASSES)"
   ]
  },
  {
   "cell_type": "code",
   "execution_count": null,
   "id": "d2caf3dd",
   "metadata": {},
   "outputs": [],
   "source": [
    "'''\n",
    "    more details regarding Dataset1 is in yolo3PhoscModify2.ipynb\n",
    "'''\n",
    "from yolov3.dataset import toyDataset\n",
    "\n",
    "changedBasePath=\"/home/aniketag/Documents/phd/TensorFlow-2.x-YOLOv3/data/toyCrops//\" # images or crops\n",
    "text2Phosc=\"filename.pickle\"      # file containing text2phosc, Used file created for original data to toy\n",
    "cord2Text=\"\"       # \n",
    "\n",
    "\n",
    "trainset = toyDataset('train',changedBasePath,text2Phosc,cord2Text)\n",
    "#testset = toyDataset('test')\n"
   ]
  },
  {
   "cell_type": "code",
   "execution_count": null,
   "id": "d3de3328",
   "metadata": {},
   "outputs": [],
   "source": []
  },
  {
   "cell_type": "code",
   "execution_count": null,
   "id": "d3540392",
   "metadata": {},
   "outputs": [],
   "source": []
  }
 ],
 "metadata": {
  "kernelspec": {
   "display_name": "Python 3 (ipykernel)",
   "language": "python",
   "name": "python3"
  },
  "language_info": {
   "codemirror_mode": {
    "name": "ipython",
    "version": 3
   },
   "file_extension": ".py",
   "mimetype": "text/x-python",
   "name": "python",
   "nbconvert_exporter": "python",
   "pygments_lexer": "ipython3",
   "version": "3.8.12"
  }
 },
 "nbformat": 4,
 "nbformat_minor": 5
}
