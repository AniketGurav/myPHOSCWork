{
 "cells": [
  {
   "cell_type": "markdown",
   "id": "c563fb34",
   "metadata": {},
   "source": [
    "\"\"\"\n",
    "\n",
    "1.\n",
    "    THE RESULTS OF YOLOV3 CROPS, CROPS EXTRACTED FROM YOLOV3 TRAINING DATA AND PHOSCNET DATA ARE \n",
    "    NOT COMPARABLE.THE NECESSARY STUDY HAS BEEN DONE IN yoloToPhoscVIsualization.ipynb \n",
    "\n",
    "2. \n",
    "    THE OBSERVATION IS, PHOSCNET TEST DATA RESULTS ARE BETTER THAN EXTRACTED CROP RESULTS.\n",
    "    IT MAY BE BECAUSE OF CROP SIZE IS SPECIFIC IN PHOSCNET AND BLANK SPECE ALONG WITH TEXT IN IT\n",
    "\n",
    "3.\n",
    "    THIS SCRIPT TRY TO CREATE DATA SIMILAR TO PHOSCNET TRAINING\n",
    "\n",
    "\"\"\""
   ]
  },
  {
   "cell_type": "code",
   "execution_count": 1,
   "id": "8b627340",
   "metadata": {},
   "outputs": [],
   "source": [
    "import os\n",
    "import pandas as pd"
   ]
  },
  {
   "cell_type": "code",
   "execution_count": 2,
   "id": "1c196e66",
   "metadata": {},
   "outputs": [],
   "source": [
    "testDataFrame=\"./data/data_14_april.csv\"\n",
    "testImgs=\"./cropPhoscTestData/\"\n",
    "testImageNames=os.listdir(testImgs)\n",
    "testCropPaths=\"./cropPhoscTestData2//\"\n",
    "testImgPath=\"/home/aniketag/Documents/phd/yolov5/data/datasets/forms//\""
   ]
  },
  {
   "cell_type": "code",
   "execution_count": 3,
   "id": "e325d3c9",
   "metadata": {},
   "outputs": [
    {
     "data": {
      "text/html": [
       "<div>\n",
       "<style scoped>\n",
       "    .dataframe tbody tr th:only-of-type {\n",
       "        vertical-align: middle;\n",
       "    }\n",
       "\n",
       "    .dataframe tbody tr th {\n",
       "        vertical-align: top;\n",
       "    }\n",
       "\n",
       "    .dataframe thead th {\n",
       "        text-align: right;\n",
       "    }\n",
       "</style>\n",
       "<table border=\"1\" class=\"dataframe\">\n",
       "  <thead>\n",
       "    <tr style=\"text-align: right;\">\n",
       "      <th></th>\n",
       "      <th>image_name</th>\n",
       "      <th>class</th>\n",
       "      <th>width</th>\n",
       "      <th>height</th>\n",
       "      <th>org_x1</th>\n",
       "      <th>org_y1</th>\n",
       "      <th>org_x2</th>\n",
       "      <th>org_y2</th>\n",
       "      <th>text</th>\n",
       "      <th>cropName</th>\n",
       "      <th>x</th>\n",
       "      <th>y</th>\n",
       "      <th>w</th>\n",
       "      <th>h</th>\n",
       "    </tr>\n",
       "  </thead>\n",
       "  <tbody>\n",
       "    <tr>\n",
       "      <th>0</th>\n",
       "      <td>g06-031n.png</td>\n",
       "      <td>1</td>\n",
       "      <td>2479</td>\n",
       "      <td>3542</td>\n",
       "      <td>435</td>\n",
       "      <td>678</td>\n",
       "      <td>450</td>\n",
       "      <td>697</td>\n",
       "      <td>'</td>\n",
       "      <td>g06-031n-00-00</td>\n",
       "      <td>0.18</td>\n",
       "      <td>0.19</td>\n",
       "      <td>0.01</td>\n",
       "      <td>0.01</td>\n",
       "    </tr>\n",
       "  </tbody>\n",
       "</table>\n",
       "</div>"
      ],
      "text/plain": [
       "     image_name  class  width  height  org_x1  org_y1  org_x2  org_y2 text  \\\n",
       "0  g06-031n.png      1   2479    3542     435     678     450     697    '   \n",
       "\n",
       "         cropName     x     y     w     h  \n",
       "0  g06-031n-00-00  0.18  0.19  0.01  0.01  "
      ]
     },
     "execution_count": 3,
     "metadata": {},
     "output_type": "execute_result"
    }
   ],
   "source": [
    "data=pd.read_csv(testDataFrame)\n",
    "#print(\"data.shape\",data.shape)\n",
    "#len(testImageNames)\n",
    "data.head(1)"
   ]
  },
  {
   "cell_type": "code",
   "execution_count": 5,
   "id": "efba0eaf",
   "metadata": {},
   "outputs": [],
   "source": [
    "def fetchRecord(df,imageName):\n",
    "    \n",
    "    temp=df[df[\"image_name\"]==imageName]\n",
    "    #print(\" No of records:\",temp.shape)\n",
    "    return temp\n"
   ]
  },
  {
   "cell_type": "code",
   "execution_count": 6,
   "id": "9a110183",
   "metadata": {},
   "outputs": [],
   "source": [
    "import cv2\n",
    "\n",
    "for indx,testImgName in enumerate(testImageNames):\n",
    "    \n",
    "    try:\n",
    "        cropPath=os.path.join(testCropPaths,testImgName)\n",
    "        os.mkdir(cropPath)\n",
    "    except Exception as e:\n",
    "        pass\n",
    "    \n",
    "    \n",
    "    testImgName=testImgName+\".png\"\n",
    "    temp=fetchRecord(data,testImgName)\n",
    "    tempPath=os.path.join(testImgPath,testImgName)\n",
    "    #print(\"tempPath=\",tempPath)\n",
    "    image=cv2.imread(tempPath)\n",
    "    \n",
    "    \n",
    "    for rowNo,tempRow in temp.iterrows():\n",
    "\n",
    "        cropName=tempRow.cropName+\".png\" \n",
    "        #print(\"cropName=\",cropName,\" testImgName:\",testImgName)\n",
    "        \n",
    "        if testImgName[:-4] not in cropName:\n",
    "            continue\n",
    "\n",
    "        cor=[tempRow.org_x1,tempRow.org_y1,tempRow.org_x2,tempRow.org_y2]\n",
    "        x1,y1,x2,y2=int(cor[0]),int(cor[1]),int(cor[2]),int(cor[3])\n",
    "        crop=image[y1:y2,x1-25:x2+25]\n",
    "        crop=cv2.resize(crop,(250,50))\n",
    "        crop=255-255*crop\n",
    "        cropWritePath=os.path.join(cropPath,cropName)\n",
    "        #print(\"cropWritePath=\",cropWritePath,crop)\n",
    "        cv2.imwrite(cropWritePath,crop)\n",
    "        \n",
    "        #print(\"crop=\",crop.shape)    \n",
    "    \n",
    "    #print(\"image:\",image.shape)\n",
    "    \n",
    "    #break\n",
    "    \n",
    "    \n",
    "    "
   ]
  },
  {
   "cell_type": "code",
   "execution_count": null,
   "id": "0cc74a26",
   "metadata": {},
   "outputs": [],
   "source": []
  },
  {
   "cell_type": "code",
   "execution_count": null,
   "id": "5f1f0429",
   "metadata": {},
   "outputs": [],
   "source": []
  }
 ],
 "metadata": {
  "kernelspec": {
   "display_name": "Python 3 (ipykernel)",
   "language": "python",
   "name": "python3"
  },
  "language_info": {
   "codemirror_mode": {
    "name": "ipython",
    "version": 3
   },
   "file_extension": ".py",
   "mimetype": "text/x-python",
   "name": "python",
   "nbconvert_exporter": "python",
   "pygments_lexer": "ipython3",
   "version": "3.8.12"
  }
 },
 "nbformat": 4,
 "nbformat_minor": 5
}
